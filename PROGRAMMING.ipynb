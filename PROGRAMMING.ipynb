{
  "nbformat": 4,
  "nbformat_minor": 0,
  "metadata": {
    "colab": {
      "provenance": []
    },
    "kernelspec": {
      "name": "python3",
      "display_name": "Python 3"
    },
    "language_info": {
      "name": "python"
    }
  },
  "cells": [
    {
      "cell_type": "markdown",
      "source": [
        "**PRINTING MULTIPLES OF 5 WITH IN RANGE OF (0 TO 100) USING FOR LOOP**"
      ],
      "metadata": {
        "id": "vkBIjqUyCks-"
      }
    },
    {
      "cell_type": "code",
      "execution_count": 14,
      "metadata": {
        "colab": {
          "base_uri": "https://localhost:8080/"
        },
        "id": "mR837NBJCZS2",
        "outputId": "27b70b7a-2849-4bdc-b392-6fcbaaec0880"
      },
      "outputs": [
        {
          "output_type": "stream",
          "name": "stdout",
          "text": [
            "0\n",
            "5\n",
            "10\n",
            "15\n",
            "20\n",
            "25\n",
            "30\n",
            "35\n",
            "40\n",
            "45\n",
            "50\n",
            "55\n",
            "60\n",
            "65\n",
            "70\n",
            "75\n",
            "80\n",
            "85\n",
            "90\n",
            "95\n"
          ]
        }
      ],
      "source": [
        "for i in range(0,100,5):\n",
        "  print(i)\n"
      ]
    },
    {
      "cell_type": "markdown",
      "source": [
        "**PRINT ALL VALUES FROM 1 TO 100 , SKIP THE NUMBERS DIVIDED BY 3 AND 5**"
      ],
      "metadata": {
        "id": "ySGlykVMF6mh"
      }
    },
    {
      "cell_type": "code",
      "source": [
        "for i in range(1,100):\n",
        "  if(i % 3!= 0 and i % 5!= 0):\n",
        "    print(i)\n"
      ],
      "metadata": {
        "colab": {
          "base_uri": "https://localhost:8080/"
        },
        "id": "NJMTa4DLGRpa",
        "outputId": "54474cb0-e488-4645-a15f-7010219b9d1d"
      },
      "execution_count": 19,
      "outputs": [
        {
          "output_type": "stream",
          "name": "stdout",
          "text": [
            "1\n",
            "2\n",
            "4\n",
            "7\n",
            "8\n",
            "11\n",
            "13\n",
            "14\n",
            "16\n",
            "17\n",
            "19\n",
            "22\n",
            "23\n",
            "26\n",
            "28\n",
            "29\n",
            "31\n",
            "32\n",
            "34\n",
            "37\n",
            "38\n",
            "41\n",
            "43\n",
            "44\n",
            "46\n",
            "47\n",
            "49\n",
            "52\n",
            "53\n",
            "56\n",
            "58\n",
            "59\n",
            "61\n",
            "62\n",
            "64\n",
            "67\n",
            "68\n",
            "71\n",
            "73\n",
            "74\n",
            "76\n",
            "77\n",
            "79\n",
            "82\n",
            "83\n",
            "86\n",
            "88\n",
            "89\n",
            "91\n",
            "92\n",
            "94\n",
            "97\n",
            "98\n"
          ]
        }
      ]
    },
    {
      "cell_type": "markdown",
      "source": [
        "**PRINT ALL THE PERFECT SQUARE NUMBER BETWEEN 1 TO 500**"
      ],
      "metadata": {
        "id": "Q7-n5x9-He4f"
      }
    },
    {
      "cell_type": "code",
      "source": [
        "for i in range(1,50):\n",
        "  print(i**2)"
      ],
      "metadata": {
        "colab": {
          "base_uri": "https://localhost:8080/"
        },
        "id": "w-Z2ev9XHod7",
        "outputId": "9e03789e-b164-4bb3-e06b-7aad54edde1c"
      },
      "execution_count": 24,
      "outputs": [
        {
          "output_type": "stream",
          "name": "stdout",
          "text": [
            "1\n",
            "4\n",
            "9\n",
            "16\n",
            "25\n",
            "36\n",
            "49\n",
            "64\n",
            "81\n",
            "100\n",
            "121\n",
            "144\n",
            "169\n",
            "196\n",
            "225\n",
            "256\n",
            "289\n",
            "324\n",
            "361\n",
            "400\n",
            "441\n",
            "484\n",
            "529\n",
            "576\n",
            "625\n",
            "676\n",
            "729\n",
            "784\n",
            "841\n",
            "900\n",
            "961\n",
            "1024\n",
            "1089\n",
            "1156\n",
            "1225\n",
            "1296\n",
            "1369\n",
            "1444\n",
            "1521\n",
            "1600\n",
            "1681\n",
            "1764\n",
            "1849\n",
            "1936\n",
            "2025\n",
            "2116\n",
            "2209\n",
            "2304\n",
            "2401\n"
          ]
        }
      ]
    },
    {
      "cell_type": "markdown",
      "source": [
        "**PRINTING DIFFERENT PATTERNS**"
      ],
      "metadata": {
        "id": "Umtiw-gDELru"
      }
    },
    {
      "cell_type": "code",
      "source": [
        "i=1\n",
        "while(i<=4):\n",
        "  print(\"#\", end=\" \")\n",
        "  j=1\n",
        "  while(j<=4):\n",
        "    print(\"#\", end=\" \")\n",
        "    j+=1\n",
        "  i+=1\n",
        "  print()"
      ],
      "metadata": {
        "colab": {
          "base_uri": "https://localhost:8080/"
        },
        "id": "DQ8iNpc2DBRL",
        "outputId": "41c56fc5-7335-4215-81c8-0b81f6ddc002"
      },
      "execution_count": 22,
      "outputs": [
        {
          "output_type": "stream",
          "name": "stdout",
          "text": [
            "# # # # # \n",
            "# # # # # \n",
            "# # # # # \n",
            "# # # # # \n"
          ]
        }
      ]
    },
    {
      "cell_type": "code",
      "source": [
        "for i in range(4):\n",
        "  for j in range(i):\n",
        "    print(\"#\", end=\" \")\n",
        "  print()"
      ],
      "metadata": {
        "colab": {
          "base_uri": "https://localhost:8080/"
        },
        "id": "74MAy54PFWSw",
        "outputId": "8a3595b6-3ffe-4bd7-d98b-f598a34f9ac0"
      },
      "execution_count": 25,
      "outputs": [
        {
          "output_type": "stream",
          "name": "stdout",
          "text": [
            "\n",
            "# \n",
            "# # \n",
            "# # # \n"
          ]
        }
      ]
    }
  ]
}